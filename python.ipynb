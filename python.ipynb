INTRODUCTION:
Demonstrates a basic implementation of a machine learning model to predict house prices based on selected features from a real estate dataset. We use the well-known Ames Housing dataset (train.csv), which includes various property characteristics and their corresponding sale prices.
The main goals of this project are to:
Load and explore the dataset
Build a simple Linear Regression model using key features such as:
Gross Living Area (GrLivArea)
Number of Bedrooms Above Ground (BedroomAbvGr)
Number of Full Bathrooms (FullBath)
Evaluate the model's performance using metrics like Mean Squared Error (MSE) and R² score
Allow interactive user input for the above features and predict the house sale price
Visualize:
Feature correlations
Input vs predicted output
Actual vs predicted prices on test data
This project provides a hands-on demonstration of applying supervised learning techniques to a real-world dataset, while also offering an interactive and visual way to test the model’s performance with custom inputs.

Step 1: Upload the Dataset (train.csv)
📍 Create a new code cell and run:

# Upload your file (make sure your file is named 'train.csv')
from google.colab import files
uploaded = files.upload()

Step 2: Import Required Libraries

import pandas as pd
import numpy as np
import matplotlib.pyplot as plt
import seaborn as sns
from sklearn.linear_model import LinearRegression
from sklearn.model_selection import train_test_split
from sklearn.metrics import mean_squared_error, r2_score

# Enable inline plots
%matplotlib inline

Step 3: Load the Dataset and Explore

# Load dataset
df = pd.read_csv("train.csv")

# Show first few rows
df.head()

# Get basic info
df.info()

# Statistical summary
df.describe()

Step 4: Correlation Heatmap (Visual EDA)

plt.figure(figsize=(8,6))
sns.heatmap(df[['GrLivArea', 'BedroomAbvGr', 'FullBath', 'SalePrice']].corr(), annot=True, cmap='coolwarm')
plt.title("Feature Correlation with SalePrice")
plt.show()

Step 5: Feature Selection and Data Preparation

# Select features and target
features = ['GrLivArea', 'BedroomAbvGr', 'FullBath']
X = df[features].fillna(0)
y = df['SalePrice'].fillna(0)

# Split the dataset
X_train, X_test, y_train, y_test = train_test_split(X, y, test_size=0.2, random_state=42)

Step 6: Train the Linear Regression Model

model = LinearRegression()
model.fit(X_train, y_train)

# Predict on test set
y_pred = model.predict(X_test)

# Evaluate the model
print("📊 Model Performance:")
print("Mean Squared Error (MSE):", mean_squared_error(y_test, y_pred))
print("R² Score:", r2_score(y_test, y_pred))

🔹 Step 7: Take User Input for Prediction

# Get user input (interactive)
print("\n🔧 Enter house features for prediction:")

try:
    gr_liv_area = float(input("🏠 Enter Gross Living Area (e.g., 1800): "))
    bedrooms = int(input("🛏️ Enter Number of Bedrooms Above Ground (e.g., 3): "))
    full_baths = int(input("🚿 Enter Number of Full Bathrooms (e.g., 2): "))

    user_input = {
        'GrLivArea': gr_liv_area,
        'BedroomAbvGr': bedrooms,
        'FullBath': full_baths
    }

    input_df = pd.DataFrame([user_input])
    predicted_price = model.predict(input_df)[0]

    print(f"\n💰 Predicted Sale Price: ${predicted_price:,.2f}")

except ValueError:
    print("❌ Please enter valid numerical values.")
🔹 Step 8: Visualize the Prediction
📍 Create one cell for each plot below:

➤ 1. Scatter plot: GrLivArea vs SalePrice


plt.figure(figsize=(10,6))
sns.scatterplot(x='GrLivArea', y='SalePrice', data=df, label='Training Data')
plt.scatter(gr_liv_area, predicted_price, color='red', s=100, label='Your Input (Prediction)')
plt.title("GrLivArea vs SalePrice with User Prediction")
plt.xlabel("Gross Living Area")
plt.ylabel("Sale Price")
plt.legend()
plt.grid(True)
plt.show()
➤ 2. Bar chart of user input


plt.figure(figsize=(8,5))
sns.barplot(x=list(user_input.keys()), y=list(user_input.values()), palette="viridis")
plt.title("User Input Feature Values")
plt.ylabel("Value")
plt.grid(True)
plt.show()
➤ 3. Actual vs Predicted prices with user point


plt.figure(figsize=(8,6))
plt.scatter(y_test, y_pred, alpha=0.6, label="Test Set Predictions")
plt.scatter(predicted_price, predicted_price, color='red', s=100, label="Your Prediction")
plt.xlabel("Actual Price")
plt.ylabel("Predicted Price")
plt.title("Actual vs Predicted House Prices")
plt.legend()
plt.grid(True)
plt.show()
