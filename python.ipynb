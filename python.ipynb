pip install notebook
jupyter notebook
notebooks/linear_regression_model.ipynb
import pandas as pd
import numpy as np
import matplotlib.pyplot as plt
import seaborn as sns
from sklearn.linear_model import LinearRegression
from sklearn.model_selection import train_test_split
from sklearn.metrics import mean_squared_error, r2_score
df = pd.read_csv('../data/train.csv')  # Adjust path if needed
df.head()
df.info()
df.describe()

# Correlation heatmap
plt.figure(figsize=(10,6))
sns.heatmap(df[['GrLivArea', 'BedroomAbvGr', 'FullBath', 'SalePrice']].corr(), annot=True)
plt.title("Feature Correlation with SalePrice")
plt.show()

# Scatter plot: Living Area vs Price
sns.scatterplot(x='GrLivArea', y='SalePrice', data=df)
plt.title("Living Area vs Sale Price")
plt.show()
features = ['GrLivArea', 'BedroomAbvGr', 'FullBath']
X = df[features].fillna(0)
y = df['SalePrice'].fillna(0)
X_train, X_test, y_train, y_test = train_test_split(X, y, test_size=0.2, random_state=42)

model = LinearRegression()
model.fit(X_train, y_train)
y_pred = model.predict(X_test)

print("MSE:", mean_squared_error(y_test, y_pred))
print("R2 Score:", r2_score(y_test, y_pred))

# Plot actual vs predicted
plt.scatter(y_test, y_pred)
plt.xlabel("Actual Prices")
plt.ylabel("Predicted Prices")
plt.title("Actual vs Predicted House Prices")
plt.grid(True)
plt.show()
