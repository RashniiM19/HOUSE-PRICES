# === IMPORTS ===
import pandas as pd
import numpy as np
import matplotlib.pyplot as plt
import seaborn as sns
from sklearn.linear_model import LinearRegression
from sklearn.model_selection import train_test_split
from sklearn.metrics import mean_squared_error, r2_score

# === LOAD DATA ===
df = pd.read_csv('train.csv')  # File uploaded in previous cell
features = ['GrLivArea', 'BedroomAbvGr', 'FullBath']
X = df[features].fillna(0)
y = df['SalePrice'].fillna(0)

# === TRAIN TEST SPLIT & MODEL ===
X_train, X_test, y_train, y_test = train_test_split(X, y, test_size=0.2, random_state=42)
model = LinearRegression()
model.fit(X_train, y_train)
y_pred = model.predict(X_test)

# === PERFORMANCE ===
print("📊 Model Evaluation")
print("Mean Squared Error (MSE):", mean_squared_error(y_test, y_pred))
print("R² Score:", r2_score(y_test, y_pred))

